{
  "nbformat": 4,
  "nbformat_minor": 0,
  "metadata": {
    "colab": {
      "provenance": [],
      "authorship_tag": "ABX9TyPXm6jxkSENOeJ3Xyd3utId",
      "include_colab_link": true
    },
    "kernelspec": {
      "name": "python3",
      "display_name": "Python 3"
    },
    "language_info": {
      "name": "python"
    }
  },
  "cells": [
    {
      "cell_type": "markdown",
      "metadata": {
        "id": "view-in-github",
        "colab_type": "text"
      },
      "source": [
        "<a href=\"https://colab.research.google.com/github/jossy450/project/blob/main/Another_copy_of_dummy_datacode.ipynb\" target=\"_parent\"><img src=\"https://colab.research.google.com/assets/colab-badge.svg\" alt=\"Open In Colab\"/></a>"
      ]
    },
    {
      "cell_type": "code",
      "execution_count": null,
      "metadata": {
        "colab": {
          "base_uri": "https://localhost:8080/"
        },
        "id": "W9P5L9Gaa4KY",
        "outputId": "9a953c57-da86-4c1b-a33b-b114834494e0"
      },
      "outputs": [
        {
          "output_type": "stream",
          "name": "stdout",
          "text": [
            "['Resident_ID', 'Age', 'Group_Activities_Per_Week', 'Mood_Score', 'Avg_Daily_Steps', 'GP_Visits_Last_Month', 'Avg_Hours_Sleep', 'Social_Interaction_Score', 'Therapy_Sessions_Last_Month', 'Chronic_Conditions_Count', 'Last_BP_Systolic', 'Last_BP_Diastolic', 'Medication_Changes_Last_Quarter']\n",
            "['R001', 71, 0, 9, 3226, 3, 6.2, 4, 2, 0, 165, 68, 0]\n",
            "['R002', 94, 1, 10, 4705, 2, 6.0, 9, 4, 2, 162, 96, 1]\n",
            "['R003', 83, 1, 2, 4552, 0, 7.4, 1, 4, 2, 179, 100, 1]\n",
            "['R004', 65, 4, 5, 3671, 1, 7.4, 8, 0, 3, 124, 86, 2]\n",
            "['R005', 79, 3, 1, 2405, 1, 6.5, 3, 1, 2, 152, 72, 0]\n",
            "['R006', 73, 3, 4, 3070, 2, 6.5, 1, 1, 2, 123, 75, 2]\n",
            "['R007', 78, 1, 3, 4529, 1, 7.7, 3, 1, 1, 150, 86, 2]\n",
            "['R008', 81, 3, 5, 3312, 3, 8.6, 9, 4, 0, 117, 89, 1]\n",
            "['R009', 87, 1, 8, 3645, 1, 7.9, 5, 3, 2, 103, 94, 0]\n",
            "['R010', 65, 4, 8, 3921, 1, 7.8, 10, 3, 2, 105, 101, 0]\n"
          ]
        }
      ],
      "source": [
        "import random\n",
        "import csv\n",
        "\n",
        "# We will generate 1500 rows of dummy data, each row representing a fictitious resident.\n",
        "# Extended Schema (13 columns):\n",
        "# 1.  Resident_ID                (e.g. R001, R002, … R1500)\n",
        "# 2.  Age                        (65–95)\n",
        "# 3.  Group_Activities_Per_Week  (0–5)\n",
        "# 4.  Mood_Score                 (1–10)\n",
        "# 5.  Avg_Daily_Steps            (2000–6000)\n",
        "# 6.  GP_Visits_Last_Month       (0–3)\n",
        "# 7.  Avg_Hours_Sleep            (5.0–9.0)\n",
        "# 8.  Social_Interaction_Score   (1–10)\n",
        "# 9.  Therapy_Sessions_Last_Month(0–4)\n",
        "# 10. Chronic_Conditions_Count   (0–3)\n",
        "# 11. Last_BP_Systolic           (100–180)\n",
        "# 12. Last_BP_Diastolic          (60–110)\n",
        "# 13. Medication_Changes_Last_Quarter (0–2)\n",
        "\n",
        "num_records = 1500\n",
        "\n",
        "def format_id(num):\n",
        "    return f\"R{num:03d}\"\n",
        "\n",
        "data = []\n",
        "# Header row\n",
        "data.append([\n",
        "    \"Resident_ID\",\"Age\",\"Group_Activities_Per_Week\",\"Mood_Score\",\"Avg_Daily_Steps\",\n",
        "    \"GP_Visits_Last_Month\",\"Avg_Hours_Sleep\",\"Social_Interaction_Score\",\n",
        "    \"Therapy_Sessions_Last_Month\",\"Chronic_Conditions_Count\",\n",
        "    \"Last_BP_Systolic\",\"Last_BP_Diastolic\",\"Medication_Changes_Last_Quarter\"\n",
        "])\n",
        "\n",
        "for i in range(1, num_records+1):\n",
        "    resident_id = format_id(i)\n",
        "    age = random.randint(65,95)\n",
        "    group_activities = random.randint(0,5)\n",
        "    mood_score = random.randint(1,10)\n",
        "    avg_daily_steps = random.randint(2000,6000)\n",
        "    gp_visits = random.randint(0,3)\n",
        "    avg_sleep = round(random.uniform(5.0, 9.0), 1)\n",
        "    social_score = random.randint(1,10)\n",
        "    therapy_sessions = random.randint(0,4)\n",
        "    chronic_conditions = random.randint(0,3)\n",
        "    bp_systolic = random.randint(100,180)\n",
        "    bp_diastolic = random.randint(60,110)\n",
        "    med_changes = random.randint(0,2)\n",
        "\n",
        "    data.append([\n",
        "        resident_id, age, group_activities, mood_score, avg_daily_steps,\n",
        "        gp_visits, avg_sleep, social_score, therapy_sessions,\n",
        "        chronic_conditions, bp_systolic, bp_diastolic, med_changes\n",
        "    ])\n",
        "\n",
        "with open('dummy_data_1500.csv', mode='w', newline='', encoding='utf-8') as f:\n",
        "    writer = csv.writer(f)\n",
        "    writer.writerows(data)\n",
        "\n",
        "# Preview the first 10 data rows:\n",
        "for row in data[:11]:\n",
        "    print(row)\n"
      ]
    }
  ]
}